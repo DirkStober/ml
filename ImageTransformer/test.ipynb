{
 "cells": [
  {
   "cell_type": "code",
   "execution_count": 1,
   "id": "bc49eea6",
   "metadata": {},
   "outputs": [],
   "source": [
    "import torch\n",
    "import torch.nn.functional as F\n",
    "import torch.nn as nn\n",
    "import torchvision\n",
    "import matplotlib.pyplot as plt\n",
    "%matplotlib inline"
   ]
  },
  {
   "cell_type": "code",
   "execution_count": 6,
   "id": "b73df556",
   "metadata": {},
   "outputs": [
    {
     "name": "stdout",
     "output_type": "stream",
     "text": [
      "Files already downloaded and verified\n"
     ]
    }
   ],
   "source": [
    "# Load dataset CIFAR-10\n",
    "trainset = torchvision.datasets.CIFAR10(root='../data',train=True,\n",
    "        download = True)\n",
    "\n",
    "images = torch.tensor(trainset.data)"
   ]
  },
  {
   "cell_type": "code",
   "execution_count": 16,
   "id": "a4e67507",
   "metadata": {},
   "outputs": [
    {
     "name": "stdout",
     "output_type": "stream",
     "text": [
      "torch.Size([5000, 32, 32, 3])\n"
     ]
    },
    {
     "data": {
      "text/plain": [
       "<matplotlib.image.AxesImage at 0x7ff4d30da8f0>"
      ]
     },
     "execution_count": 16,
     "metadata": {},
     "output_type": "execute_result"
    },
    {
     "data": {
      "image/png": "[encoded data removed]",
      "text/plain": [
       "<Figure size 432x288 with 1 Axes>"
      ]
     },
     "metadata": {
      "needs_background": "light"
     },
     "output_type": "display_data"
    }
   ],
   "source": [
    "# Get indices of different classes\n",
    "g = {i:[] for i in range(10)}\n",
    "{g[j].append(i) for i,j in enumerate(trainset.targets)}\n",
    "shipset = images[g[8]]\n",
    "print(shipset.shape)\n",
    "img_in = shipset[0]\n",
    "plt.imshow(xin)"
   ]
  },
  {
   "cell_type": "code",
   "execution_count": 116,
   "id": "669b4ef1",
   "metadata": {},
   "outputs": [],
   "source": [
    "# Channel Specific Embedding\n",
    "d = 8 # n_embd\n",
    "block_size = 4\n",
    "batch_size = 2\n",
    "# (3x256) -> (3xd): Input\n",
    "# (1x1) -> (1xd): Positional Encoding:\n",
    "# xpos -> 1xd/2\n",
    "# ypos -> 1xd/2 => cat both together\n",
    "posx_embedding = torch.nn.Embedding(32*3,d//2) # 32*3 dim of picture \n",
    "posy_embedding = torch.nn.Embedding(32,d//2) # 32 dim of picture\n",
    "RGB_embeddings = torch.nn.ModuleList([torch.nn.Embedding(256,d) for _ in range(3)])\n",
    "val_embedding = torch.nn.Embedding(256,d)\n",
    "# Output (h x w*3 x d)\n",
    "query = nn.Linear(d,d,bias=False)\n",
    "key = nn.Linear(d,d,bias=False)\n",
    "value = nn.Linear(d,d,bias=False)\n",
    "\n",
    "# Output (hxw*3xd)"
   ]
  },
  {
   "cell_type": "code",
   "execution_count": 117,
   "id": "f03eefdd",
   "metadata": {},
   "outputs": [
    {
     "name": "stdout",
     "output_type": "stream",
     "text": [
      "tensor([0, 1, 2, 3])\n"
     ]
    }
   ],
   "source": [
    "\n",
    "tks = torch.arange(block_size) \n",
    "print(tks)"
   ]
  },
  {
   "cell_type": "code",
   "execution_count": 126,
   "id": "f6876212",
   "metadata": {},
   "outputs": [
    {
     "name": "stdout",
     "output_type": "stream",
     "text": [
      "tensor([[ 998,  999, 1000, 1001],\n",
      "        [ 321,  322,  323,  324]])\n",
      "tensor([[[-0.2960, -0.0527,  0.7014,  0.4490, -0.2712,  0.4102, -0.2798,\n",
      "           1.1704],\n",
      "         [-0.2960, -0.0527,  0.7014,  0.4490,  1.0055, -0.7006, -0.5722,\n",
      "           0.5314],\n",
      "         [-0.2960, -0.0527,  0.7014,  0.4490,  0.5636, -0.2711, -1.0693,\n",
      "          -0.2618],\n",
      "         [-0.2960, -0.0527,  0.7014,  0.4490, -1.0617, -0.1592,  0.8324,\n",
      "           0.7277]],\n",
      "\n",
      "        [[ 0.1502,  1.8915,  0.4048,  2.5591,  1.6114,  0.3535,  0.3179,\n",
      "           0.7545],\n",
      "         [ 0.1502,  1.8915,  0.4048,  2.5591,  0.2145,  0.7116, -0.6363,\n",
      "          -0.2419],\n",
      "         [ 0.1502,  1.8915,  0.4048,  2.5591,  0.6848,  1.4536, -0.5249,\n",
      "          -1.0711],\n",
      "         [ 0.1502,  1.8915,  0.4048,  2.5591,  0.0135,  0.7582,  0.2913,\n",
      "          -1.7214]]], grad_fn=<CatBackward0>)\n"
     ]
    },
    {
     "ename": "TypeError",
     "evalue": "only integer tensors of a single element can be converted to an index",
     "output_type": "error",
     "traceback": [
      "\u001b[0;31m---------------------------------------------------------------------------\u001b[0m",
      "\u001b[0;31mTypeError\u001b[0m                                 Traceback (most recent call last)",
      "\u001b[0;32m/tmp/ipykernel_9306/893337731.py\u001b[0m in \u001b[0;36m<module>\u001b[0;34m\u001b[0m\n\u001b[1;32m     10\u001b[0m \u001b[0mpos_emb\u001b[0m \u001b[0;34m=\u001b[0m \u001b[0mtorch\u001b[0m\u001b[0;34m.\u001b[0m\u001b[0mcat\u001b[0m\u001b[0;34m(\u001b[0m\u001b[0;34m[\u001b[0m\u001b[0mposx_embedding\u001b[0m\u001b[0;34m(\u001b[0m\u001b[0mtks\u001b[0m\u001b[0;34m//\u001b[0m\u001b[0;36m32\u001b[0m\u001b[0;34m)\u001b[0m\u001b[0;34m,\u001b[0m\u001b[0mposy_embedding\u001b[0m\u001b[0;34m(\u001b[0m\u001b[0mtks\u001b[0m\u001b[0;34m%\u001b[0m\u001b[0;36m32\u001b[0m\u001b[0;34m)\u001b[0m\u001b[0;34m]\u001b[0m\u001b[0;34m,\u001b[0m\u001b[0mdim\u001b[0m\u001b[0;34m=\u001b[0m\u001b[0;34m-\u001b[0m\u001b[0;36m1\u001b[0m\u001b[0;34m)\u001b[0m\u001b[0;34m\u001b[0m\u001b[0;34m\u001b[0m\u001b[0m\n\u001b[1;32m     11\u001b[0m \u001b[0mprint\u001b[0m\u001b[0;34m(\u001b[0m\u001b[0mpos_emb\u001b[0m\u001b[0;34m)\u001b[0m\u001b[0;34m\u001b[0m\u001b[0;34m\u001b[0m\u001b[0m\n\u001b[0;32m---> 12\u001b[0;31m \u001b[0mval_emb\u001b[0m \u001b[0;34m=\u001b[0m \u001b[0mRGB_embeddings\u001b[0m\u001b[0;34m[\u001b[0m\u001b[0mpos\u001b[0m\u001b[0;34m%\u001b[0m\u001b[0;36m3\u001b[0m\u001b[0;34m]\u001b[0m\u001b[0;34m(\u001b[0m\u001b[0mxin\u001b[0m\u001b[0;34m)\u001b[0m\u001b[0;34m\u001b[0m\u001b[0;34m\u001b[0m\u001b[0m\n\u001b[0m\u001b[1;32m     13\u001b[0m \u001b[0;34m\u001b[0m\u001b[0m\n\u001b[1;32m     14\u001b[0m \u001b[0;34m\u001b[0m\u001b[0m\n",
      "\u001b[0;32m~/.local/lib/python3.10/site-packages/torch/nn/modules/container.py\u001b[0m in \u001b[0;36m__getitem__\u001b[0;34m(self, idx)\u001b[0m\n\u001b[1;32m    280\u001b[0m             \u001b[0;32mreturn\u001b[0m \u001b[0mself\u001b[0m\u001b[0;34m.\u001b[0m\u001b[0m__class__\u001b[0m\u001b[0;34m(\u001b[0m\u001b[0mlist\u001b[0m\u001b[0;34m(\u001b[0m\u001b[0mself\u001b[0m\u001b[0;34m.\u001b[0m\u001b[0m_modules\u001b[0m\u001b[0;34m.\u001b[0m\u001b[0mvalues\u001b[0m\u001b[0;34m(\u001b[0m\u001b[0;34m)\u001b[0m\u001b[0;34m)\u001b[0m\u001b[0;34m[\u001b[0m\u001b[0midx\u001b[0m\u001b[0;34m]\u001b[0m\u001b[0;34m)\u001b[0m\u001b[0;34m\u001b[0m\u001b[0;34m\u001b[0m\u001b[0m\n\u001b[1;32m    281\u001b[0m         \u001b[0;32melse\u001b[0m\u001b[0;34m:\u001b[0m\u001b[0;34m\u001b[0m\u001b[0;34m\u001b[0m\u001b[0m\n\u001b[0;32m--> 282\u001b[0;31m             \u001b[0;32mreturn\u001b[0m \u001b[0mself\u001b[0m\u001b[0;34m.\u001b[0m\u001b[0m_modules\u001b[0m\u001b[0;34m[\u001b[0m\u001b[0mself\u001b[0m\u001b[0;34m.\u001b[0m\u001b[0m_get_abs_string_index\u001b[0m\u001b[0;34m(\u001b[0m\u001b[0midx\u001b[0m\u001b[0;34m)\u001b[0m\u001b[0;34m]\u001b[0m\u001b[0;34m\u001b[0m\u001b[0;34m\u001b[0m\u001b[0m\n\u001b[0m\u001b[1;32m    283\u001b[0m \u001b[0;34m\u001b[0m\u001b[0m\n\u001b[1;32m    284\u001b[0m     \u001b[0;32mdef\u001b[0m \u001b[0m__setitem__\u001b[0m\u001b[0;34m(\u001b[0m\u001b[0mself\u001b[0m\u001b[0;34m,\u001b[0m \u001b[0midx\u001b[0m\u001b[0;34m:\u001b[0m \u001b[0mint\u001b[0m\u001b[0;34m,\u001b[0m \u001b[0mmodule\u001b[0m\u001b[0;34m:\u001b[0m \u001b[0mModule\u001b[0m\u001b[0;34m)\u001b[0m \u001b[0;34m->\u001b[0m \u001b[0;32mNone\u001b[0m\u001b[0;34m:\u001b[0m\u001b[0;34m\u001b[0m\u001b[0;34m\u001b[0m\u001b[0m\n",
      "\u001b[0;32m~/.local/lib/python3.10/site-packages/torch/nn/modules/container.py\u001b[0m in \u001b[0;36m_get_abs_string_index\u001b[0;34m(self, idx)\u001b[0m\n\u001b[1;32m    268\u001b[0m     \u001b[0;32mdef\u001b[0m \u001b[0m_get_abs_string_index\u001b[0m\u001b[0;34m(\u001b[0m\u001b[0mself\u001b[0m\u001b[0;34m,\u001b[0m \u001b[0midx\u001b[0m\u001b[0;34m)\u001b[0m\u001b[0;34m:\u001b[0m\u001b[0;34m\u001b[0m\u001b[0;34m\u001b[0m\u001b[0m\n\u001b[1;32m    269\u001b[0m         \u001b[0;34m\"\"\"Get the absolute index for the list of modules\"\"\"\u001b[0m\u001b[0;34m\u001b[0m\u001b[0;34m\u001b[0m\u001b[0m\n\u001b[0;32m--> 270\u001b[0;31m         \u001b[0midx\u001b[0m \u001b[0;34m=\u001b[0m \u001b[0moperator\u001b[0m\u001b[0;34m.\u001b[0m\u001b[0mindex\u001b[0m\u001b[0;34m(\u001b[0m\u001b[0midx\u001b[0m\u001b[0;34m)\u001b[0m\u001b[0;34m\u001b[0m\u001b[0;34m\u001b[0m\u001b[0m\n\u001b[0m\u001b[1;32m    271\u001b[0m         \u001b[0;32mif\u001b[0m \u001b[0;32mnot\u001b[0m \u001b[0;34m(\u001b[0m\u001b[0;34m-\u001b[0m\u001b[0mlen\u001b[0m\u001b[0;34m(\u001b[0m\u001b[0mself\u001b[0m\u001b[0;34m)\u001b[0m \u001b[0;34m<=\u001b[0m \u001b[0midx\u001b[0m \u001b[0;34m<\u001b[0m \u001b[0mlen\u001b[0m\u001b[0;34m(\u001b[0m\u001b[0mself\u001b[0m\u001b[0;34m)\u001b[0m\u001b[0;34m)\u001b[0m\u001b[0;34m:\u001b[0m\u001b[0;34m\u001b[0m\u001b[0;34m\u001b[0m\u001b[0m\n\u001b[1;32m    272\u001b[0m             \u001b[0;32mraise\u001b[0m \u001b[0mIndexError\u001b[0m\u001b[0;34m(\u001b[0m\u001b[0;34m'index {} is out of range'\u001b[0m\u001b[0;34m.\u001b[0m\u001b[0mformat\u001b[0m\u001b[0;34m(\u001b[0m\u001b[0midx\u001b[0m\u001b[0;34m)\u001b[0m\u001b[0;34m)\u001b[0m\u001b[0;34m\u001b[0m\u001b[0;34m\u001b[0m\u001b[0m\n",
      "\u001b[0;31mTypeError\u001b[0m: only integer tensors of a single element can be converted to an index"
     ]
    }
   ],
   "source": [
    "# Get Batch\n",
    "pos = torch.randint(0,32*32-block_size -1,(batch_size,))\n",
    "rgb_flat = img_in[0].reshape(32,32*\n",
    "\n",
    "xin = torch.stack([rgb_flat[i: i + block_size] for i in pos])\n",
    "tks = pos.unsqueeze(-1) + torch.arange(block_size).unsqueeze(0) \n",
    "print(tks)\n",
    "\n",
    "# Let's keep global position for now\n",
    "pos_emb = torch.cat([posx_embedding(tks//32),posy_embedding(tks%32)],dim=-1)\n",
    "print(pos_emb)\n",
    "val_emb = val_embedding(xin)\n",
    "\n",
    "\n",
    "emb = pos_emb + val_emb # (1,4) + (1,4) -> (1,4)\n",
    "print(emb.shape)"
   ]
  },
  {
   "cell_type": "code",
   "execution_count": 115,
   "id": "0eb7aba4",
   "metadata": {},
   "outputs": [
    {
     "name": "stdout",
     "output_type": "stream",
     "text": [
      "4 8\n",
      "tensor([[ 0.0494, -1.0974, -0.2267,  0.3478,  1.5461,  0.4090,  1.1708,  0.0374],\n",
      "        [ 0.5159, -0.1809,  0.2524,  1.0788,  1.4720, -0.1050,  1.0703, -0.7026],\n",
      "        [ 0.1767, -0.2640, -0.0152,  0.5309,  1.2677, -0.0586,  0.8840, -0.5875],\n",
      "        [ 0.8556,  0.2402,  0.0385,  0.8763,  1.5038, -0.3326,  0.9567, -0.9233]],\n",
      "       grad_fn=<MmBackward0>)\n"
     ]
    }
   ],
   "source": [
    "T,C = emb.shape\n",
    "print(T,C)\n",
    "q = query(emb)\n",
    "k = key(emb)\n",
    "v = value(emb)\n",
    "wei = q@k.transpose(-2,-1) *(d**-0.5)\n",
    "wei = wei.masked_fill(torch.tril(torch.ones(block_size,block_size)) == 0,-float('inf'))\n",
    "wei = F.softmax(wei,dim=-1)\n",
    "out = wei @ v\n",
    "print(out)"
   ]
  },
  {
   "cell_type": "code",
   "execution_count": 159,
   "id": "923571d0",
   "metadata": {},
   "outputs": [],
   "source": [
    "mnist = torchvision.datasets.MNIST(\"../data/\",train = True, download = True)"
   ]
  },
  {
   "cell_type": "code",
   "execution_count": 201,
   "id": "26f51f68",
   "metadata": {},
   "outputs": [
    {
     "name": "stdout",
     "output_type": "stream",
     "text": [
      "tensor([5, 0, 4,  ..., 5, 6, 8])\n",
      "torch.Size([60000, 28, 28])\n",
      "tensor(0)\n"
     ]
    },
    {
     "data": {
      "text/plain": [
       "<matplotlib.image.AxesImage at 0x7ff4cfd559c0>"
      ]
     },
     "execution_count": 201,
     "metadata": {},
     "output_type": "execute_result"
    },
    {
     "data": {
      "image/png": "[encoded data removed]",
      "text/plain": [
       "<Figure size 432x288 with 1 Axes>"
      ]
     },
     "metadata": {
      "needs_background": "light"
     },
     "output_type": "display_data"
    }
   ],
   "source": [
    "\n",
    "print(mnist.targets)\n",
    "print(mnist.data.shape)\n",
    "# Get indices of different classes\n",
    "g =[[] for _ in range(10)]\n",
    "{g[j].append(i) for i,j in enumerate(mnist.targets)}\n",
    "in_data = mnist.data[g[0]]\n",
    "in_label = mnist.targets[g[0]]\n",
    "print(in_label[0])\n",
    "plt.imshow(in_data[0],cmap='gray')"
   ]
  },
  {
   "cell_type": "code",
   "execution_count": 194,
   "id": "ba9b56f8",
   "metadata": {},
   "outputs": [],
   "source": [
    "# Channel Specific Embedding\n",
    "d = 8 # n_embd\n",
    "block_size = 4\n",
    "batch_size = 2\n",
    "img_size = 28\n",
    "# (1x256) -> (1d): Input\n",
    "# (1x1) -> (1xd): Positional Encoding:\n",
    "# xpos -> 1xd/2\n",
    "# ypos -> 1xd/2 => cat both together\n",
    "posx_embedding = torch.nn.Embedding(img_size,d//2) # dim of picture \n",
    "posy_embedding = torch.nn.Embedding(img_size,d//2) # dim of picture)\n",
    "val_embedding = torch.nn.Embedding(256,d)\n",
    "# Output (h x w*3 x d)\n",
    "query = nn.Linear(d,d,bias=False)\n",
    "key = nn.Linear(d,d,bias=False)\n",
    "value = nn.Linear(d,d,bias=False)\n",
    "\n",
    "# Output (hxw*3xd)"
   ]
  },
  {
   "cell_type": "code",
   "execution_count": 200,
   "id": "9d856910",
   "metadata": {},
   "outputs": [
    {
     "name": "stdout",
     "output_type": "stream",
     "text": [
      "tensor([[522, 523, 524, 525],\n",
      "        [  4,   5,   6,   7]])\n",
      "torch.Size([2, 4, 8])\n",
      "torch.Size([2, 4, 8])\n",
      "torch.Size([2, 4, 8])\n"
     ]
    }
   ],
   "source": [
    "# Get Batch 1D for now\n",
    "xin = in_data[0].view(img_size*img_size).long().squeeze()\n",
    "pos = torch.randint(0,img_size*img_size-block_size -1,(batch_size,))\n",
    "xin = torch.stack([xin[i: i + block_size] for i in pos])\n",
    "yin = torch.stack([xin[i+1: i+1 + block_size] for i in pos]) \n",
    "\n",
    "\n",
    "print(tks)\n",
    "# Let's keep global position for now\n",
    "pos_emb = torch.cat([posx_embedding(tks//28),posy_embedding(tks%28)],dim=-1)\n",
    "val_emb = val_embedding(xin)\n",
    "\n",
    "print(val_emb.shape)\n",
    "print(pos_emb.shape)\n",
    "\n",
    "emb = pos_emb + val_emb # (1,4) + (1,4) -> (1,4)\n",
    "print(emb.shape)"
   ]
  },
  {
   "cell_type": "code",
   "execution_count": 204,
   "id": "3485025d",
   "metadata": {},
   "outputs": [
    {
     "data": {
      "text/plain": [
       "<matplotlib.image.AxesImage at 0x7ff4cfe69540>"
      ]
     },
     "execution_count": 204,
     "metadata": {},
     "output_type": "execute_result"
    },
    {
     "data": {
      "image/png": "[encoded data removed]",
      "text/plain": [
       "<Figure size 432x288 with 9 Axes>"
      ]
     },
     "metadata": {
      "needs_background": "light"
     },
     "output_type": "display_data"
    }
   ],
   "source": [
    "images = [in_data[i] for i in range(9)]\n",
    "fig,axs = plt.subplots(3,3)\n",
    "axs[0][0].imshow(images[0],cmap='gray')"
   ]
  },
  {
   "cell_type": "code",
   "execution_count": null,
   "id": "3d47c49a",
   "metadata": {},
   "outputs": [],
   "source": []
  }
 ],
 "metadata": {
  "kernelspec": {
   "display_name": "Python 3 (ipykernel)",
   "language": "python",
   "name": "python3"
  },
  "language_info": {
   "codemirror_mode": {
    "name": "ipython",
    "version": 3
   },
   "file_extension": ".py",
   "mimetype": "text/x-python",
   "name": "python",
   "nbconvert_exporter": "python",
   "pygments_lexer": "ipython3",
   "version": "3.10.12"
  }
 },
 "nbformat": 4,
 "nbformat_minor": 5
}
